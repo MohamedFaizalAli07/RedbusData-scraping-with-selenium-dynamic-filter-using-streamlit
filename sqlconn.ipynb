{
 "cells": [
  {
   "cell_type": "code",
   "execution_count": 2,
   "metadata": {},
   "outputs": [
    {
     "name": "stdout",
     "output_type": "stream",
     "text": [
      "Requirement already satisfied: mysql-connector-python in c:\\users\\user\\appdata\\local\\programs\\python\\python312\\lib\\site-packages (9.1.0)"
     ]
    },
    {
     "name": "stderr",
     "output_type": "stream",
     "text": [
      "\n",
      "[notice] A new release of pip is available: 24.2 -> 24.3.1\n",
      "[notice] To update, run: python.exe -m pip install --upgrade pip\n"
     ]
    },
    {
     "name": "stdout",
     "output_type": "stream",
     "text": [
      "\n"
     ]
    }
   ],
   "source": [
    "! pip install mysql-connector-python"
   ]
  },
  {
   "cell_type": "code",
   "execution_count": 1,
   "metadata": {},
   "outputs": [],
   "source": [
    "#importing libraries\n",
    "import pandas as pd\n",
    "import mysql.connector\n",
    "import numpy as np"
   ]
  },
  {
   "cell_type": "code",
   "execution_count": 4,
   "metadata": {},
   "outputs": [
    {
     "data": {
      "text/html": [
       "<div>\n",
       "<style scoped>\n",
       "    .dataframe tbody tr th:only-of-type {\n",
       "        vertical-align: middle;\n",
       "    }\n",
       "\n",
       "    .dataframe tbody tr th {\n",
       "        vertical-align: top;\n",
       "    }\n",
       "\n",
       "    .dataframe thead th {\n",
       "        text-align: right;\n",
       "    }\n",
       "</style>\n",
       "<table border=\"1\" class=\"dataframe\">\n",
       "  <thead>\n",
       "    <tr style=\"text-align: right;\">\n",
       "      <th></th>\n",
       "      <th>Bus_name</th>\n",
       "      <th>Bus_type</th>\n",
       "      <th>Start_time</th>\n",
       "      <th>End_time</th>\n",
       "      <th>Total_duration</th>\n",
       "      <th>Price</th>\n",
       "      <th>Seats_Available</th>\n",
       "      <th>Ratings</th>\n",
       "      <th>Route_link</th>\n",
       "      <th>Route_name</th>\n",
       "    </tr>\n",
       "  </thead>\n",
       "  <tbody>\n",
       "    <tr>\n",
       "      <th>0</th>\n",
       "      <td>KSRTC (Kerala) - 51</td>\n",
       "      <td>Swift Deluxe Non AC Air Bus (2+2)</td>\n",
       "      <td>19:00</td>\n",
       "      <td>04:30</td>\n",
       "      <td>09h 30m</td>\n",
       "      <td>INR 640</td>\n",
       "      <td>31 Seats available</td>\n",
       "      <td>3.9\\n41</td>\n",
       "      <td>https://www.redbus.in/bus-tickets/bangalore-to...</td>\n",
       "      <td>Bangalore to Kozhikode</td>\n",
       "    </tr>\n",
       "    <tr>\n",
       "      <th>1</th>\n",
       "      <td>KSRTC (Kerala) - 789</td>\n",
       "      <td>Super Fast Non AC Seater (2+3)</td>\n",
       "      <td>20:00</td>\n",
       "      <td>03:45</td>\n",
       "      <td>07h 45m</td>\n",
       "      <td>INR 473</td>\n",
       "      <td>11 Seats available</td>\n",
       "      <td>3.6\\n83</td>\n",
       "      <td>https://www.redbus.in/bus-tickets/bangalore-to...</td>\n",
       "      <td>Bangalore to Kozhikode</td>\n",
       "    </tr>\n",
       "    <tr>\n",
       "      <th>2</th>\n",
       "      <td>KSRTC (Kerala) - 2133</td>\n",
       "      <td>Swift Deluxe Non AC Air Bus (2+2)</td>\n",
       "      <td>22:10</td>\n",
       "      <td>07:35</td>\n",
       "      <td>09h 25m</td>\n",
       "      <td>INR 640</td>\n",
       "      <td>11 Seats available</td>\n",
       "      <td>4.3\\n27</td>\n",
       "      <td>https://www.redbus.in/bus-tickets/bangalore-to...</td>\n",
       "      <td>Bangalore to Kozhikode</td>\n",
       "    </tr>\n",
       "    <tr>\n",
       "      <th>3</th>\n",
       "      <td>KSRTC (Kerala) - 2063</td>\n",
       "      <td>SWIFT-GARUDA A/C SEATER BUS</td>\n",
       "      <td>22:30</td>\n",
       "      <td>06:00</td>\n",
       "      <td>07h 30m</td>\n",
       "      <td>INR 627</td>\n",
       "      <td>1 Seat available</td>\n",
       "      <td>4.1\\n63</td>\n",
       "      <td>https://www.redbus.in/bus-tickets/bangalore-to...</td>\n",
       "      <td>Bangalore to Kozhikode</td>\n",
       "    </tr>\n",
       "    <tr>\n",
       "      <th>4</th>\n",
       "      <td>KSRTC (Kerala) - 574</td>\n",
       "      <td>Super Express Non AC Seater Air Bus (2+2)</td>\n",
       "      <td>23:00</td>\n",
       "      <td>09:40</td>\n",
       "      <td>10h 40m</td>\n",
       "      <td>INR 469</td>\n",
       "      <td>18 Seats available</td>\n",
       "      <td>3.4\\n35</td>\n",
       "      <td>https://www.redbus.in/bus-tickets/bangalore-to...</td>\n",
       "      <td>Bangalore to Kozhikode</td>\n",
       "    </tr>\n",
       "    <tr>\n",
       "      <th>...</th>\n",
       "      <td>...</td>\n",
       "      <td>...</td>\n",
       "      <td>...</td>\n",
       "      <td>...</td>\n",
       "      <td>...</td>\n",
       "      <td>...</td>\n",
       "      <td>...</td>\n",
       "      <td>...</td>\n",
       "      <td>...</td>\n",
       "      <td>...</td>\n",
       "    </tr>\n",
       "    <tr>\n",
       "      <th>4921</th>\n",
       "      <td>Droupadi Paribahan</td>\n",
       "      <td>A/C Seater (2+3)</td>\n",
       "      <td>14:10</td>\n",
       "      <td>16:58</td>\n",
       "      <td>02h 48m</td>\n",
       "      <td>INR 160</td>\n",
       "      <td>61 Seats available</td>\n",
       "      <td>2.7\\n31</td>\n",
       "      <td>https://www.redbus.in/bus-tickets/kolkata-to-h...</td>\n",
       "      <td>Kolkata to Haldia</td>\n",
       "    </tr>\n",
       "    <tr>\n",
       "      <th>4922</th>\n",
       "      <td>KRISHNAKALI</td>\n",
       "      <td>A/C Seater (2+3)</td>\n",
       "      <td>14:45</td>\n",
       "      <td>17:30</td>\n",
       "      <td>02h 45m</td>\n",
       "      <td>INR 165</td>\n",
       "      <td>61 Seats available</td>\n",
       "      <td>2.2\\n48</td>\n",
       "      <td>https://www.redbus.in/bus-tickets/kolkata-to-h...</td>\n",
       "      <td>Kolkata to Haldia</td>\n",
       "    </tr>\n",
       "    <tr>\n",
       "      <th>4923</th>\n",
       "      <td>Droupadi City Service</td>\n",
       "      <td>A/C Seater (2+3)</td>\n",
       "      <td>15:20</td>\n",
       "      <td>18:10</td>\n",
       "      <td>02h 50m</td>\n",
       "      <td>180</td>\n",
       "      <td>60 Seats available</td>\n",
       "      <td>2.8\\n68</td>\n",
       "      <td>https://www.redbus.in/bus-tickets/kolkata-to-h...</td>\n",
       "      <td>Kolkata to Haldia</td>\n",
       "    </tr>\n",
       "    <tr>\n",
       "      <th>4924</th>\n",
       "      <td>Droupadi Bus Service</td>\n",
       "      <td>Non AC Seater (2+3)</td>\n",
       "      <td>16:20</td>\n",
       "      <td>19:10</td>\n",
       "      <td>02h 50m</td>\n",
       "      <td>INR 121</td>\n",
       "      <td>54 Seats available</td>\n",
       "      <td>2.7\\n19</td>\n",
       "      <td>https://www.redbus.in/bus-tickets/kolkata-to-h...</td>\n",
       "      <td>Kolkata to Haldia</td>\n",
       "    </tr>\n",
       "    <tr>\n",
       "      <th>4925</th>\n",
       "      <td>SBSTC-BONGAON - ASANSOL - VIA - BARASAT - 05:0...</td>\n",
       "      <td>Non AC Seater (2+3)</td>\n",
       "      <td>07:00</td>\n",
       "      <td>11:40</td>\n",
       "      <td>04h 40m</td>\n",
       "      <td>INR 185</td>\n",
       "      <td>51 Seats available</td>\n",
       "      <td>3.7\\n21</td>\n",
       "      <td>https://www.redbus.in/bus-tickets/barasat-west...</td>\n",
       "      <td>Barasat (West Bengal) to Asansol (West Bengal)</td>\n",
       "    </tr>\n",
       "  </tbody>\n",
       "</table>\n",
       "<p>4926 rows × 10 columns</p>\n",
       "</div>"
      ],
      "text/plain": [
       "                                               Bus_name  \\\n",
       "0                                   KSRTC (Kerala) - 51   \n",
       "1                                  KSRTC (Kerala) - 789   \n",
       "2                                 KSRTC (Kerala) - 2133   \n",
       "3                                 KSRTC (Kerala) - 2063   \n",
       "4                                  KSRTC (Kerala) - 574   \n",
       "...                                                 ...   \n",
       "4921                                 Droupadi Paribahan   \n",
       "4922                                        KRISHNAKALI   \n",
       "4923                              Droupadi City Service   \n",
       "4924                               Droupadi Bus Service   \n",
       "4925  SBSTC-BONGAON - ASANSOL - VIA - BARASAT - 05:0...   \n",
       "\n",
       "                                       Bus_type Start_time End_time  \\\n",
       "0             Swift Deluxe Non AC Air Bus (2+2)      19:00    04:30   \n",
       "1                Super Fast Non AC Seater (2+3)      20:00    03:45   \n",
       "2             Swift Deluxe Non AC Air Bus (2+2)      22:10    07:35   \n",
       "3                   SWIFT-GARUDA A/C SEATER BUS      22:30    06:00   \n",
       "4     Super Express Non AC Seater Air Bus (2+2)      23:00    09:40   \n",
       "...                                         ...        ...      ...   \n",
       "4921                           A/C Seater (2+3)      14:10    16:58   \n",
       "4922                           A/C Seater (2+3)      14:45    17:30   \n",
       "4923                           A/C Seater (2+3)      15:20    18:10   \n",
       "4924                        Non AC Seater (2+3)      16:20    19:10   \n",
       "4925                        Non AC Seater (2+3)      07:00    11:40   \n",
       "\n",
       "     Total_duration    Price     Seats_Available  Ratings  \\\n",
       "0           09h 30m  INR 640  31 Seats available  3.9\\n41   \n",
       "1           07h 45m  INR 473  11 Seats available  3.6\\n83   \n",
       "2           09h 25m  INR 640  11 Seats available  4.3\\n27   \n",
       "3           07h 30m  INR 627    1 Seat available  4.1\\n63   \n",
       "4           10h 40m  INR 469  18 Seats available  3.4\\n35   \n",
       "...             ...      ...                 ...      ...   \n",
       "4921        02h 48m  INR 160  61 Seats available  2.7\\n31   \n",
       "4922        02h 45m  INR 165  61 Seats available  2.2\\n48   \n",
       "4923        02h 50m      180  60 Seats available  2.8\\n68   \n",
       "4924        02h 50m  INR 121  54 Seats available  2.7\\n19   \n",
       "4925        04h 40m  INR 185  51 Seats available  3.7\\n21   \n",
       "\n",
       "                                             Route_link  \\\n",
       "0     https://www.redbus.in/bus-tickets/bangalore-to...   \n",
       "1     https://www.redbus.in/bus-tickets/bangalore-to...   \n",
       "2     https://www.redbus.in/bus-tickets/bangalore-to...   \n",
       "3     https://www.redbus.in/bus-tickets/bangalore-to...   \n",
       "4     https://www.redbus.in/bus-tickets/bangalore-to...   \n",
       "...                                                 ...   \n",
       "4921  https://www.redbus.in/bus-tickets/kolkata-to-h...   \n",
       "4922  https://www.redbus.in/bus-tickets/kolkata-to-h...   \n",
       "4923  https://www.redbus.in/bus-tickets/kolkata-to-h...   \n",
       "4924  https://www.redbus.in/bus-tickets/kolkata-to-h...   \n",
       "4925  https://www.redbus.in/bus-tickets/barasat-west...   \n",
       "\n",
       "                                          Route_name  \n",
       "0                             Bangalore to Kozhikode  \n",
       "1                             Bangalore to Kozhikode  \n",
       "2                             Bangalore to Kozhikode  \n",
       "3                             Bangalore to Kozhikode  \n",
       "4                             Bangalore to Kozhikode  \n",
       "...                                              ...  \n",
       "4921                               Kolkata to Haldia  \n",
       "4922                               Kolkata to Haldia  \n",
       "4923                               Kolkata to Haldia  \n",
       "4924                               Kolkata to Haldia  \n",
       "4925  Barasat (West Bengal) to Asansol (West Bengal)  \n",
       "\n",
       "[4926 rows x 10 columns]"
      ]
     },
     "execution_count": 4,
     "metadata": {},
     "output_type": "execute_result"
    }
   ],
   "source": [
    "# csv to dataframe\n",
    "df_buses_1=pd.read_csv(\"df_buses_1.csv\")\n",
    "df_buses_2=pd.read_csv(\"df_buses_2.csv\")\n",
    "df_buses_3=pd.read_csv(\"df_buses_3.csv\")\n",
    "df_buses_4=pd.read_csv(\"df_buses_4.csv\")\n",
    "df_buses_5=pd.read_csv(\"df_buses_5.csv\")\n",
    "df_buses_6=pd.read_csv(\"df_buses_6.csv\")\n",
    "df_buses_7=pd.read_csv(\"df_buses_7.csv\")\n",
    "df_buses_8=pd.read_csv(\"df_buses_8.csv\")\n",
    "df_buses_9=pd.read_csv(\"df_buses_9.csv\")\n",
    "df_buses_10=pd.read_csv(\"df_buses_10.csv\")\n",
    "\n",
    "Final_df=pd.concat([df_buses_1,df_buses_2,df_buses_3,df_buses_4,df_buses_5,df_buses_6,\n",
    "                    df_buses_7,df_buses_8,df_buses_9,df_buses_10],ignore_index=True)\n",
    "Final_df"
   ]
  },
  {
   "cell_type": "markdown",
   "metadata": {},
   "source": [
    "# Data cleaning"
   ]
  },
  {
   "cell_type": "code",
   "execution_count": 5,
   "metadata": {},
   "outputs": [
    {
     "name": "stdout",
     "output_type": "stream",
     "text": [
      "<class 'pandas.core.frame.DataFrame'>\n",
      "RangeIndex: 4926 entries, 0 to 4925\n",
      "Data columns (total 10 columns):\n",
      " #   Column           Non-Null Count  Dtype \n",
      "---  ------           --------------  ----- \n",
      " 0   Bus_name         4865 non-null   object\n",
      " 1   Bus_type         4865 non-null   object\n",
      " 2   Start_time       4865 non-null   object\n",
      " 3   End_time         4865 non-null   object\n",
      " 4   Total_duration   4865 non-null   object\n",
      " 5   Price            4865 non-null   object\n",
      " 6   Seats_Available  4865 non-null   object\n",
      " 7   Ratings          4865 non-null   object\n",
      " 8   Route_link       4926 non-null   object\n",
      " 9   Route_name       4926 non-null   object\n",
      "dtypes: object(10)\n",
      "memory usage: 385.0+ KB\n"
     ]
    }
   ],
   "source": [
    "# data about the data\n",
    "Final_df.info()"
   ]
  },
  {
   "cell_type": "code",
   "execution_count": 6,
   "metadata": {},
   "outputs": [
    {
     "data": {
      "text/plain": [
       "0       640.0\n",
       "1       473.0\n",
       "2       640.0\n",
       "3       627.0\n",
       "4       469.0\n",
       "        ...  \n",
       "4921    160.0\n",
       "4922    165.0\n",
       "4923    180.0\n",
       "4924    121.0\n",
       "4925    185.0\n",
       "Name: Price, Length: 4926, dtype: float64"
      ]
     },
     "execution_count": 6,
     "metadata": {},
     "output_type": "execute_result"
    }
   ],
   "source": [
    "#convert prices to numeric\n",
    "Final_df[\"Price\"]=Final_df[\"Price\"].str.replace(\"INR\",\"\")\n",
    "Final_df[\"Price\"]=Final_df[\"Price\"].astype(float)\n",
    "Final_df[\"Price\"].fillna(0) \n"
   ]
  },
  {
   "cell_type": "code",
   "execution_count": 7,
   "metadata": {},
   "outputs": [
    {
     "name": "stderr",
     "output_type": "stream",
     "text": [
      "C:\\Users\\User\\AppData\\Local\\Temp\\ipykernel_27540\\2577861265.py:6: FutureWarning: A value is trying to be set on a copy of a DataFrame or Series through chained assignment using an inplace method.\n",
      "The behavior will change in pandas 3.0. This inplace method will never work because the intermediate object on which we are setting values always behaves as a copy.\n",
      "\n",
      "For example, when doing 'df[col].method(value, inplace=True)', try using 'df.method({col: value}, inplace=True)' or df[col] = df[col].method(value) instead, to perform the operation inplace on the original object.\n",
      "\n",
      "\n",
      "  Final_df[\"Ratings\"].fillna(0,inplace=True)\n"
     ]
    }
   ],
   "source": [
    "#convert Ratings to numeric\n",
    "Final_df[\"Ratings\"]=Final_df[\"Ratings\"].str.replace(\"New\",\"\")\n",
    "Final_df[\"Ratings\"]=Final_df[\"Ratings\"].str.strip()\n",
    "Final_df[\"Ratings\"]=Final_df[\"Ratings\"].str.split().str[0]\n",
    "Final_df[\"Ratings\"] = pd.to_numeric(Final_df[\"Ratings\"], errors='coerce')\n",
    "Final_df[\"Ratings\"].fillna(0,inplace=True) \n"
   ]
  },
  {
   "cell_type": "code",
   "execution_count": 8,
   "metadata": {},
   "outputs": [
    {
     "name": "stdout",
     "output_type": "stream",
     "text": [
      "<class 'pandas.core.frame.DataFrame'>\n",
      "RangeIndex: 4926 entries, 0 to 4925\n",
      "Data columns (total 10 columns):\n",
      " #   Column           Non-Null Count  Dtype  \n",
      "---  ------           --------------  -----  \n",
      " 0   Bus_name         4865 non-null   object \n",
      " 1   Bus_type         4865 non-null   object \n",
      " 2   Start_time       4865 non-null   object \n",
      " 3   End_time         4865 non-null   object \n",
      " 4   Total_duration   4865 non-null   object \n",
      " 5   Price            4865 non-null   float64\n",
      " 6   Seats_Available  4865 non-null   object \n",
      " 7   Ratings          4926 non-null   float64\n",
      " 8   Route_link       4926 non-null   object \n",
      " 9   Route_name       4926 non-null   object \n",
      "dtypes: float64(2), object(8)\n",
      "memory usage: 385.0+ KB\n"
     ]
    }
   ],
   "source": [
    "# info after the data type change\n",
    "Final_df.info()"
   ]
  },
  {
   "cell_type": "code",
   "execution_count": 9,
   "metadata": {},
   "outputs": [],
   "source": [
    "Final_df = Final_df[Final_df[\"Price\"] <= 7000]"
   ]
  },
  {
   "cell_type": "code",
   "execution_count": 10,
   "metadata": {},
   "outputs": [],
   "source": [
    "# replacing the nan value\n",
    "Final_df = Final_df.replace({np.nan: None})"
   ]
  },
  {
   "cell_type": "code",
   "execution_count": 11,
   "metadata": {},
   "outputs": [],
   "source": [
    "# change dataframe to csv\n",
    "path=r\"C:\\Users\\User\\Desktop\\capstone project guvi\\redbus_project\\df_busFinal_df.csv\"\n",
    "Final_df.to_csv(path,index=False)"
   ]
  },
  {
   "cell_type": "markdown",
   "metadata": {},
   "source": [
    "# Create a mysql database"
   ]
  },
  {
   "cell_type": "code",
   "execution_count": 12,
   "metadata": {},
   "outputs": [],
   "source": [
    "#sql connection\n",
    "conn=mysql.connector.connect(host=\"localhost\", user=\"root\", password=\"root\",use_pure=True,database=\"RED_BUS_DETAILS\")\n",
    "my_cursor = conn.cursor()\n",
    "my_cursor.execute(\"CREATE DATABASE IF NOT EXISTS RED_BUS_DETAILS\")"
   ]
  },
  {
   "cell_type": "code",
   "execution_count": 14,
   "metadata": {},
   "outputs": [
    {
     "name": "stdout",
     "output_type": "stream",
     "text": [
      "Table Created successfully\n"
     ]
    }
   ],
   "source": [
    "# Table Creation\n",
    "my_cursor.execute('''CREATE TABLE IF NOT EXISTS bus_details(\n",
    "                  ID INT AUTO_INCREMENT PRIMARY KEY,\n",
    "                  Bus_name VARCHAR(255) NOT NULL,\n",
    "                  Bus_type VARCHAR(255) NOT NULL,\n",
    "                  Start_time VARCHAR(255) NOT NULL,\n",
    "                  End_time VARCHAR(255) NOT NULL,\n",
    "                  Total_duration VARCHAR(255) NOT NULL,\n",
    "                  Price FLOAT NULL,\n",
    "                  Seats_Available VARCHAR(255) NOT NULL,\n",
    "                  Ratings Float NULL,\n",
    "                  Route_link VARCHAR(255) NULL,\n",
    "                  Route_name VARCHAR(255) NULL\n",
    "                  )''')\n",
    "print(\"Table Created successfully\")"
   ]
  },
  {
   "cell_type": "code",
   "execution_count": 15,
   "metadata": {},
   "outputs": [
    {
     "name": "stdout",
     "output_type": "stream",
     "text": [
      "Values inserted successfully\n"
     ]
    }
   ],
   "source": [
    "# SQL query to insert data into bus_details table\n",
    "insert_query = '''INSERT INTO bus_details(\n",
    "                    Bus_name,\n",
    "                    Bus_type,\n",
    "                    Start_time,\n",
    "                    End_time,\n",
    "                    Total_duration,\n",
    "                    Price,\n",
    "                    Seats_Available,\n",
    "                    Ratings,\n",
    "                    Route_link,\n",
    "                    Route_name)\n",
    "                  VALUES(%s, %s, %s, %s, %s, %s, %s, %s, %s, %s)'''\n",
    "data = Final_df.values.tolist()\n",
    "\n",
    "my_cursor.executemany(insert_query, data)\n",
    "\n",
    "conn.commit()\n",
    "\n",
    "print(\"Values inserted successfully\")\n"
   ]
  }
 ],
 "metadata": {
  "kernelspec": {
   "display_name": "Python 3",
   "language": "python",
   "name": "python3"
  },
  "language_info": {
   "codemirror_mode": {
    "name": "ipython",
    "version": 3
   },
   "file_extension": ".py",
   "mimetype": "text/x-python",
   "name": "python",
   "nbconvert_exporter": "python",
   "pygments_lexer": "ipython3",
   "version": "3.12.6"
  }
 },
 "nbformat": 4,
 "nbformat_minor": 2
}
